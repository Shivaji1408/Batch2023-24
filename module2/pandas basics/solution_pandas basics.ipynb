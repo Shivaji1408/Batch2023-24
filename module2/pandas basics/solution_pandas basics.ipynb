{
 "cells": [
  {
   "cell_type": "code",
   "execution_count": 1,
   "metadata": {},
   "outputs": [
    {
     "name": "stdout",
     "output_type": "stream",
     "text": [
      "a) Number of unique cities: 4\n",
      "b) Average age: 29.5\n",
      "c) Number of males and females:\n",
      " Gender\n",
      "Female    2\n",
      "Male      2\n",
      "Name: count, dtype: int64\n",
      "d) Oldest person: Dana\n",
      "e) City with the highest number of individuals: New York\n"
     ]
    }
   ],
   "source": [
    "# Question1 Eployee Data \n",
    "import pandas as pd\n",
    "\n",
    "# Create a DataFrame from the given data\n",
    "data = {\n",
    "    'ID': [1, 2, 3, 4],\n",
    "    'Name': ['Alice', 'Bob', 'Charlie', 'Dana'],\n",
    "    'Age': [25, 30, 28, 35],\n",
    "    'Gender': ['Female', 'Male', 'Male', 'Female'],\n",
    "    'City': ['New York', 'London', 'Paris', 'Berlin']\n",
    "}\n",
    "\n",
    "df = pd.DataFrame(data)\n",
    "\n",
    "# a) Number of unique cities\n",
    "unique_cities = df['City'].nunique()\n",
    "\n",
    "# b) Average age\n",
    "average_age = df['Age'].mean()\n",
    "\n",
    "# c) Number of males and females\n",
    "gender_counts = df['Gender'].value_counts()\n",
    "\n",
    "# d) Oldest person\n",
    "oldest_person = df[df['Age'] == df['Age'].max()]['Name'].values[0]\n",
    "\n",
    "# e) City with the highest number of individuals\n",
    "city_counts = df['City'].value_counts()\n",
    "city_highest_individuals = city_counts.idxmax()\n",
    "\n",
    "print(\"a) Number of unique cities:\", unique_cities)\n",
    "print(\"b) Average age:\", average_age)\n",
    "print(\"c) Number of males and females:\\n\", gender_counts)\n",
    "print(\"d) Oldest person:\", oldest_person)\n",
    "print(\"e) City with the highest number of individuals:\", city_highest_individuals)\n"
   ]
  },
  {
   "cell_type": "code",
   "execution_count": null,
   "metadata": {},
   "outputs": [],
   "source": [
    "# question 2\n"
   ]
  }
 ],
 "metadata": {
  "kernelspec": {
   "display_name": "base",
   "language": "python",
   "name": "python3"
  },
  "language_info": {
   "codemirror_mode": {
    "name": "ipython",
    "version": 3
   },
   "file_extension": ".py",
   "mimetype": "text/x-python",
   "name": "python",
   "nbconvert_exporter": "python",
   "pygments_lexer": "ipython3",
   "version": "3.11.5"
  }
 },
 "nbformat": 4,
 "nbformat_minor": 2
}
